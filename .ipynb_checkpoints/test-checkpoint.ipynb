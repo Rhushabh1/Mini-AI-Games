{
 "cells": [
  {
   "cell_type": "code",
   "execution_count": 1,
   "metadata": {},
   "outputs": [],
   "source": [
    "import gym\n",
    "import random\n",
    "import numpy as np"
   ]
  },
  {
   "cell_type": "code",
   "execution_count": 2,
   "metadata": {
    "scrolled": true
   },
   "outputs": [
    {
     "name": "stdout",
     "output_type": "stream",
     "text": [
      "Observation space : Box(-3.4028234663852886e+38, 3.4028234663852886e+38, (4,), float32)\n",
      "Action space : Discrete(2)\n"
     ]
    },
    {
     "data": {
      "text/plain": [
       "gym.spaces.discrete.Discrete"
      ]
     },
     "execution_count": 2,
     "metadata": {},
     "output_type": "execute_result"
    }
   ],
   "source": [
    "env_name = \"CartPole-v1\"\n",
    "# env_name = \"MountainCar-v0\"\n",
    "# env_name = \"MountainCarContinuous-v0\"\n",
    "# env_name = \"Acrobot-v1\"\n",
    "# env_name = \"Pendulum-v0\"\n",
    "# env_name = \"FrozenLake-v0\"\n",
    "# env_name = \"Reverse-v0\"\n",
    "# env_name = \"CarRacing-v0\"\n",
    "# env_name = \"LunarLander-v2\"\n",
    "# env_name = \"Breakout-v0\"\n",
    "# env_name = \"FetchPush-v1\"\n",
    "\n",
    "env = gym.make(env_name)\n",
    "print(\"Observation space : {}\".format(env.observation_space))\n",
    "print(\"Action space : {}\".format(env.action_space))\n",
    "type(env.action_space)"
   ]
  },
  {
   "cell_type": "code",
   "execution_count": 3,
   "metadata": {},
   "outputs": [],
   "source": [
    "class Agent:\n",
    "    def __init__(self, env):\n",
    "#         self.is_discrete = \\\n",
    "#             type(env.action_space) == gym.spaces.discrete.Discrete\n",
    "        \n",
    "#         if self.is_discrete:\n",
    "#             self.action_size = env.action_space.n\n",
    "#             print(\"Action size = {}\".format(self.action_size))\n",
    "#         else:\n",
    "#             self.action_low = env.action_space.low\n",
    "#             self.action_high = env.action_space.high\n",
    "#             self.action_shape = env.action_space.shape\n",
    "#             print(\"Action range : {} {}\".format(self.action_low, self.action_high))\n",
    "        self.action_space = env.action_space\n",
    "        \n",
    "    def get_action(self, state):\n",
    "#         pole_angle = state[2]\n",
    "#         action = 0 if pole_angle < 0 else 1\n",
    "#         if self.is_discrete:\n",
    "#             action = random.choice(range(self.action_size))\n",
    "#         else:\n",
    "#             action = np.random.uniform(self.action_low,\n",
    "#                                        self.action_high,\n",
    "#                                        self.action_shape)\n",
    "        action = self.action_space.sample()\n",
    "        return action"
   ]
  },
  {
   "cell_type": "code",
   "execution_count": 5,
   "metadata": {},
   "outputs": [],
   "source": [
    "agent = Agent(env)\n",
    "state = env.reset()\n",
    "\n",
    "for _ in range(2000):\n",
    "#     action = env.action_space.sample()\n",
    "    action = agent.get_action(state)\n",
    "    state, reward, done, info = env.step(action)\n",
    "    env.render()\n",
    "    if done:\n",
    "        break\n",
    "    \n",
    "env.close()"
   ]
  },
  {
   "cell_type": "code",
   "execution_count": null,
   "metadata": {},
   "outputs": [],
   "source": []
  }
 ],
 "metadata": {
  "kernelspec": {
   "display_name": "Python 3",
   "language": "python",
   "name": "python3"
  },
  "language_info": {
   "codemirror_mode": {
    "name": "ipython",
    "version": 3
   },
   "file_extension": ".py",
   "mimetype": "text/x-python",
   "name": "python",
   "nbconvert_exporter": "python",
   "pygments_lexer": "ipython3",
   "version": "3.8.5"
  }
 },
 "nbformat": 4,
 "nbformat_minor": 4
}
