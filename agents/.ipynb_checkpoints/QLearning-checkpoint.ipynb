{
 "cells": [
  {
   "cell_type": "code",
   "execution_count": 1,
   "metadata": {},
   "outputs": [],
   "source": [
    "import numpy as np\n",
    "import random\n",
    "import time\n",
    "import gym\n",
    "import matplotlib.pyplot as plt\n",
    "%matplotlib inline\n",
    "\n",
    "from gym.envs.registration import registry, register\n",
    "from IPython.display import clear_output"
   ]
  },
  {
   "cell_type": "code",
   "execution_count": 2,
   "metadata": {},
   "outputs": [],
   "source": [
    "# random agent\n",
    "\n",
    "class Agent():\n",
    "    def __init__(self, env):\n",
    "        self.is_discrete = type(env.action_space) == gym.spaces.discrete.Discrete\n",
    "        \n",
    "        if self.is_discrete:\n",
    "            self.action_size = env.action_space.n\n",
    "            print(\"Action Size: {}\".format(self.action_size))\n",
    "        else:\n",
    "            self.action_low = env.action_space.low\n",
    "            self.action_high = env.action_space.high\n",
    "            self.action_shape = env.action_space.shape\n",
    "            print(\"Action Range: ({}, {}), Shape: {}\".format(self.action_low, self.action_high, self.action_shape))\n",
    "    \n",
    "    def build_model(self):\n",
    "        pass\n",
    "    \n",
    "    def get_action(self, state):\n",
    "        if self.is_discrete:\n",
    "            action = np.random.choice(range(self.action_size))\n",
    "        else:\n",
    "            action = np.random.uniform(self.action_low, self.action_high, self.action_shape)\n",
    "        return action\n",
    "    \n",
    "    def train(self, experience):\n",
    "        pass\n",
    "    "
   ]
  },
  {
   "cell_type": "code",
   "execution_count": 3,
   "metadata": {},
   "outputs": [],
   "source": [
    "# Q-Learning Agent (off-policy algorithm)\n",
    "\n",
    "class QLearning_Agent(Agent):\n",
    "    def __init__(self, env, learning_rate=0.01, discount_rate=0.97, epsilon_decay=0.99):\n",
    "        super().__init__(env)\n",
    "        self.eps = 1.0                            # for epsilon-greedy action\n",
    "        self.learning_rate = learning_rate\n",
    "        self.discount_rate = discount_rate\n",
    "        self.epsilon_decay = epsilon_decay\n",
    "        \n",
    "        self.state_size = env.observation_space.n\n",
    "        print(\"State Size: {}\".format(self.state_size))\n",
    "        self.build_model()\n",
    "    \n",
    "    def build_model(self):\n",
    "        self.q_table = 1e-3 * np.random.random([self.state_size, self.action_size])\n",
    "    \n",
    "    def get_action(self, state):\n",
    "        q_state = self.q_table[state]\n",
    "        action_greedy = np.argmax(q_state)\n",
    "        action_random = super().get_action(state)\n",
    "        action = action_random if random.random() < self.eps else action_greedy\n",
    "        return action\n",
    "    \n",
    "    def train(self, experience):\n",
    "        state, action, next_state, reward, done = experience\n",
    "        \n",
    "        q_next = self.q_table[next_state]\n",
    "        q_next = (1 - done) * q_next + done * np.zeros([self.action_size])\n",
    "        q_target = reward + self.discount_rate * np.max(q_next)\n",
    "        \n",
    "        q_update = q_target - self.q_table[state, action]\n",
    "        self.q_table[state, action] += self.learning_rate * q_update\n",
    "        \n",
    "        if done:\n",
    "            self.eps *= self.epsilon_decay\n",
    "    "
   ]
  },
  {
   "cell_type": "code",
   "execution_count": 4,
   "metadata": {},
   "outputs": [],
   "source": [
    "# to discretize actions\n",
    "\n",
    "class Discretized_Agent(Agent):\n",
    "    def __init__(self, env, n_actions=10):\n",
    "        self.is_discrete = type(env.action_space) == gym.spaces.discrete.Discrete\n",
    "        \n",
    "        if not self.is_discrete:\n",
    "            env.action_space.n = n_actions\n",
    "            self.actions = np.linspace(env.action_space.low, env.action_space.high, n_actions)\n",
    "        super().__init__(env)\n",
    "        \n",
    "    def get_action(self, action):\n",
    "        if not self.is_discrete:\n",
    "            action = self.actions[action]\n",
    "        return action"
   ]
  },
  {
   "cell_type": "code",
   "execution_count": 5,
   "metadata": {},
   "outputs": [
    {
     "name": "stdout",
     "output_type": "stream",
     "text": [
      "Observation Space: Box(-3.4028234663852886e+38, 3.4028234663852886e+38, (4,), float32)\n",
      "Action Space: Discrete(2)\n"
     ]
    }
   ],
   "source": [
    "env_name = 'CartPole-v1'\n",
    "env = gym.make(env_name)\n",
    "print(\"Observation Space:\", env.observation_space)\n",
    "print(\"Action Space:\", env.action_space)"
   ]
  },
  {
   "cell_type": "code",
   "execution_count": 6,
   "metadata": {},
   "outputs": [
    {
     "name": "stdout",
     "output_type": "stream",
     "text": [
      "Observation Space: Discrete(16)\n",
      "Action Space: Discrete(4)\n"
     ]
    }
   ],
   "source": [
    "try:\n",
    "    register(\n",
    "        id='FrozenLakeNoSlip-v0',\n",
    "        entry_point='gym.envs.toy_text:FrozenLakeEnv',\n",
    "        kwargs={'map_name' : '4x4', 'is_slippery' : False},\n",
    "        max_episode_steps=100,\n",
    "        reward_threshold=0.70, # optimum = 0.74\n",
    "    )\n",
    "except:\n",
    "    pass\n",
    "\n",
    "env_name = 'FrozenLakeNoSlip-v0'\n",
    "env = gym.make(env_name)\n",
    "print(\"Observation Space:\", env.observation_space)\n",
    "print(\"Action Space:\", env.action_space)"
   ]
  },
  {
   "cell_type": "code",
   "execution_count": 7,
   "metadata": {},
   "outputs": [
    {
     "name": "stdout",
     "output_type": "stream",
     "text": [
      "Action Size: 4\n",
      "State Size: 16\n"
     ]
    }
   ],
   "source": [
    "agent = QLearning_Agent(env)\n",
    "\n",
    "NUM_EPISODES = 100\n",
    "last_episode = 0\n",
    "rewards = []               # rewards vs episodes\n",
    "episodes = []              # episodes vs time\n",
    "episode_lengths = []       # episode length vs episodes"
   ]
  },
  {
   "cell_type": "code",
   "execution_count": 13,
   "metadata": {},
   "outputs": [
    {
     "name": "stdout",
     "output_type": "stream",
     "text": [
      "Episodes: 499, Total Reward: 241.0, Epsilon: 0.006570483042414605\n",
      "[[7.61256092e-04 3.26981418e-02 5.91016419e-04 3.63843073e-04]\n",
      " [5.93115118e-04 1.71162065e-04 5.45753086e-04 5.90904938e-04]\n",
      " [4.13128556e-04 4.92006741e-04 3.60703513e-04 2.72495367e-04]\n",
      " [7.47799575e-04 5.89587726e-04 4.31599525e-04 7.75271694e-04]\n",
      " [7.62941872e-04 8.91673311e-02 3.73641704e-04 4.21306426e-04]\n",
      " [1.61265874e-04 1.93566528e-05 1.45305329e-04 5.30255811e-04]\n",
      " [3.71083333e-04 2.78279420e-03 1.55559017e-04 4.90543696e-04]\n",
      " [1.96566956e-04 3.94661666e-04 2.15736546e-04 1.43862850e-04]\n",
      " [1.78627429e-03 4.65009662e-04 2.07086204e-01 1.09141177e-03]\n",
      " [5.91124954e-04 3.54314124e-04 4.10570068e-01 4.92605990e-04]\n",
      " [1.34075023e-03 6.75311273e-01 2.11116575e-04 3.88427202e-04]\n",
      " [5.71566214e-04 1.59306193e-04 5.79501020e-04 6.46489185e-04]\n",
      " [8.13936058e-04 9.58658107e-04 3.11258908e-04 5.74016437e-04]\n",
      " [7.07390037e-04 5.58993055e-04 1.18596680e-04 1.20764626e-03]\n",
      " [7.85633775e-04 5.84796126e-03 9.11279085e-01 5.60540281e-04]\n",
      " [2.12025198e-04 3.07387571e-04 6.85197768e-04 4.11731736e-04]]\n",
      "  (Right)\n",
      "SFFF\n",
      "FHFH\n",
      "FFFH\n",
      "HFF\u001b[41mG\u001b[0m\n"
     ]
    }
   ],
   "source": [
    "for ep in range(last_episode, last_episode + NUM_EPISODES):\n",
    "    done = False\n",
    "    state = env.reset()\n",
    "    total_reward = 0\n",
    "    length = 0\n",
    "    \n",
    "    while not done:\n",
    "        action = agent.get_action(state)\n",
    "        next_state, reward, done, info = env.step(action)\n",
    "        agent.train((state, action, next_state, reward, done))\n",
    "        state = next_state\n",
    "        total_reward += reward\n",
    "        length += 1\n",
    "        \n",
    "        episodes.append(ep)\n",
    "        \n",
    "    rewards.append(total_reward)\n",
    "    episode_lengths.append(length)\n",
    "    print(\"Episodes: {}, Total Reward: {}, Epsilon: {}\".format(ep, sum(rewards), agent.eps))\n",
    "    print(agent.q_table)\n",
    "    env.render()\n",
    "    time.sleep(0.05)\n",
    "    clear_output(wait=True)\n",
    "    \n",
    "last_episode += NUM_EPISODES\n",
    "env.close()"
   ]
  },
  {
   "cell_type": "code",
   "execution_count": 14,
   "metadata": {},
   "outputs": [
    {
     "data": {
      "image/png": "[encoded data removed]",
      "text/plain": [
       "<Figure size 432x288 with 1 Axes>"
      ]
     },
     "metadata": {
      "needs_background": "light"
     },
     "output_type": "display_data"
    },
    {
     "data": {
      "image/png": "[encoded data removed]",
      "text/plain": [
       "<Figure size 432x288 with 1 Axes>"
      ]
     },
     "metadata": {
      "needs_background": "light"
     },
     "output_type": "display_data"
    },
    {
     "data": {
      "image/png": "[encoded data removed]",
      "text/plain": [
       "<Figure size 432x288 with 1 Axes>"
      ]
     },
     "metadata": {
      "needs_background": "light"
     },
     "output_type": "display_data"
    }
   ],
   "source": [
    "# plot statistics\n",
    "'''\n",
    "create 'Statistic' class\n",
    "and 'PlotStatistics' class takes list of Statistic objects as input \n",
    "and combines their plots together into a single graph\n",
    "'''\n",
    "\n",
    "# rewards vs episodes\n",
    "plt.plot(rewards)\n",
    "plt.xlabel(\"Episode\")\n",
    "plt.ylabel(\"Reward\")\n",
    "plt.show()\n",
    "\n",
    "# episodes vs time\n",
    "plt.plot(episodes)\n",
    "plt.xlabel(\"Timestep\")\n",
    "plt.ylabel(\"Episode\")\n",
    "plt.show()\n",
    "\n",
    "# episode length vs episodes\n",
    "plt.plot(episode_lengths)\n",
    "plt.xlabel(\"Episode\")\n",
    "plt.ylabel(\"Episode Length\")\n",
    "plt.show()"
   ]
  },
  {
   "cell_type": "code",
   "execution_count": null,
   "metadata": {},
   "outputs": [],
   "source": []
  }
 ],
 "metadata": {
  "kernelspec": {
   "display_name": "Python 3",
   "language": "python",
   "name": "python3"
  },
  "language_info": {
   "codemirror_mode": {
    "name": "ipython",
    "version": 3
   },
   "file_extension": ".py",
   "mimetype": "text/x-python",
   "name": "python",
   "nbconvert_exporter": "python",
   "pygments_lexer": "ipython3",
   "version": "3.8.10"
  }
 },
 "nbformat": 4,
 "nbformat_minor": 4
}
