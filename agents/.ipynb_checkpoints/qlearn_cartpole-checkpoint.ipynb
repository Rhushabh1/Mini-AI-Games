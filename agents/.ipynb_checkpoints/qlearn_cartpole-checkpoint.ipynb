{
 "cells": [
  {
   "cell_type": "code",
   "execution_count": 1,
   "metadata": {},
   "outputs": [],
   "source": [
    "import gym\n",
    "import random\n",
    "import numpy as np\n",
    "from gym.envs.registration import registry, register\n",
    "import time\n",
    "from IPython.display import clear_output"
   ]
  },
  {
   "cell_type": "code",
   "execution_count": 2,
   "metadata": {},
   "outputs": [
    {
     "name": "stdout",
     "output_type": "stream",
     "text": [
      "Discrete(16)\n",
      "Discrete(4)\n"
     ]
    }
   ],
   "source": [
    "try:\n",
    "    register(\n",
    "        id='FrozenLakeNoSlip-v0',\n",
    "        entry_point='gym.envs.toy_text:FrozenLakeEnv',\n",
    "        kwargs={'map_name' : '4x4', 'is_slippery' : False},\n",
    "        max_episode_steps=100,\n",
    "        reward_threshold=0.70, # optimum = 0.74\n",
    "    )\n",
    "except:\n",
    "    pass\n",
    "\n",
    "env_name = 'FrozenLakeNoSlip-v0'\n",
    "env = gym.make(env_name)\n",
    "print(env.observation_space)\n",
    "print(env.action_space)"
   ]
  },
  {
   "cell_type": "code",
   "execution_count": 3,
   "metadata": {},
   "outputs": [],
   "source": [
    "class Agent():\n",
    "    def __init__(self, env):\n",
    "        self.is_discrete = type(env.action_space == gym.spaces.discrete.Discrete)\n",
    "        \n",
    "        if self.is_discrete:\n",
    "            self.action_size = env.action_space.n\n",
    "            print(\"action size\", self.action_size)\n",
    "        else:\n",
    "            self.action_low = env.action_space.low\n",
    "            self.action_high = env.action_space.high\n",
    "            self.action_shape = env.action_space.shape\n",
    "            print(\"action range\", self.action_low, self.action_high)\n",
    "    \n",
    "    def get_action(self, state):\n",
    "        if self.is_discrete:\n",
    "            action = random.choice(range(self.action_size))\n",
    "        else:\n",
    "            action = np.random.uniform(self.action_low, \n",
    "                                       self.action_high, \n",
    "                                       self.action_shape)\n",
    "#         pole_angle = state[2]\n",
    "#         action = 0 if pole_angle<0 else 1\n",
    "        return action"
   ]
  },
  {
   "cell_type": "code",
   "execution_count": 4,
   "metadata": {},
   "outputs": [
    {
     "name": "stdout",
     "output_type": "stream",
     "text": [
      "action size 4\n",
      "state size 16\n"
     ]
    }
   ],
   "source": [
    "class QAgent(Agent):\n",
    "    def __init__(self, env, discount_rate=0.97, learning_rate=0.01):\n",
    "        super().__init__(env)\n",
    "        self.state_size = env.observation_space.n\n",
    "        print(\"state size\", self.state_size)\n",
    "        \n",
    "        self.eps = 1.0\n",
    "        self.discount_rate = discount_rate\n",
    "        self.learning_rate = learning_rate\n",
    "        self.build_model()\n",
    "        \n",
    "    def build_model(self):\n",
    "        self.q_table = 1e-3*np.random.random([self.state_size, self.action_size])\n",
    "        \n",
    "    def get_action(self, state):\n",
    "        q_state = self.q_table[state]\n",
    "        action_greedy = np.argmax(q_state)\n",
    "        action_random = super().get_action(state)        \n",
    "        return action_random if random.random() < self.eps else action_greedy\n",
    "    \n",
    "    def train(self, experience):\n",
    "        state, action, next_state, reward, done = experience\n",
    "        \n",
    "        q_next = self.q_table[next_state]\n",
    "        q_next = np.zeros([self.action_size]) if done else q_next\n",
    "        q_target = reward + self.discount_rate * np.max(q_next)\n",
    "        \n",
    "        q_update = q_target - self.q_table[state, action]\n",
    "        self.q_table[state, action] += self.learning_rate * q_update        \n",
    "        \n",
    "        if done:\n",
    "            self.eps = self.eps * 0.99\n",
    "        \n",
    "agent = QAgent(env)        "
   ]
  },
  {
   "cell_type": "code",
   "execution_count": 6,
   "metadata": {},
   "outputs": [
    {
     "name": "stdout",
     "output_type": "stream",
     "text": [
      "s 15 a 2\n",
      "Episode: 99, Total Reward: 48.0, eps: 0.13397967485796175\n",
      "  (Right)\n",
      "SFFF\n",
      "FHFH\n",
      "FFFH\n",
      "HFF\u001b[41mG\u001b[0m\n",
      "[[7.06787525e-04 7.52856013e-04 6.39237940e-04 7.06927837e-04]\n",
      " [4.03134309e-04 5.58907557e-04 7.12448508e-04 7.31712535e-04]\n",
      " [1.98609591e-04 6.37157424e-04 4.07069324e-04 8.26995486e-04]\n",
      " [2.18117219e-04 6.57392860e-04 8.38860796e-04 1.53956000e-04]\n",
      " [3.15947664e-04 1.05294485e-03 3.75956663e-04 7.07210229e-04]\n",
      " [2.20652194e-04 3.21300820e-04 4.97606661e-04 6.86243223e-04]\n",
      " [7.00551277e-04 1.78452644e-03 6.83674025e-04 3.90126134e-04]\n",
      " [9.44295021e-04 2.94333650e-04 2.49445488e-04 4.38242770e-04]\n",
      " [9.14487999e-04 1.59599776e-05 2.56480556e-03 7.71272565e-04]\n",
      " [9.19584580e-04 1.02175167e-03 1.55163760e-02 1.64438586e-04]\n",
      " [3.40150162e-04 9.77048134e-02 6.18651558e-04 8.58977657e-04]\n",
      " [2.32799641e-04 9.56152575e-04 4.37810113e-04 1.86113781e-04]\n",
      " [1.05832898e-04 4.03795529e-04 8.80179189e-04 3.97586193e-04]\n",
      " [8.64377047e-04 5.04696082e-04 2.04974461e-02 9.24279697e-04]\n",
      " [5.16842255e-04 2.16440478e-03 4.24939515e-01 1.15539206e-03]\n",
      " [5.34702162e-05 3.10881041e-04 3.04908713e-04 7.43546253e-04]]\n"
     ]
    }
   ],
   "source": [
    "total_reward = 0\n",
    "for ep in range(100):\n",
    "    state = env.reset()\n",
    "    done = False\n",
    "    while not done:\n",
    "        action = agent.get_action(state)\n",
    "        next_state, reward, done, info = env.step(action)\n",
    "        agent.train((state, action, next_state, reward, done))\n",
    "        state = next_state\n",
    "        total_reward += reward\n",
    "        \n",
    "        print(\"s\", state, \"a\", action)\n",
    "        print(\"Episode: {}, Total Reward: {}, eps: {}\".format(ep, total_reward, agent.eps))\n",
    "        env.render()\n",
    "        print(agent.q_table)\n",
    "        time.sleep(0.05)\n",
    "        clear_output(wait=True)\n",
    "    \n",
    "env.close()"
   ]
  },
  {
   "cell_type": "code",
   "execution_count": null,
   "metadata": {},
   "outputs": [],
   "source": []
  }
 ],
 "metadata": {
  "kernelspec": {
   "display_name": "Python 3",
   "language": "python",
   "name": "python3"
  },
  "language_info": {
   "codemirror_mode": {
    "name": "ipython",
    "version": 3
   },
   "file_extension": ".py",
   "mimetype": "text/x-python",
   "name": "python",
   "nbconvert_exporter": "python",
   "pygments_lexer": "ipython3",
   "version": "3.8.5"
  }
 },
 "nbformat": 4,
 "nbformat_minor": 4
}
