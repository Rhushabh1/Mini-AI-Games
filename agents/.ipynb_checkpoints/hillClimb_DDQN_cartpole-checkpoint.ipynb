{
 "cells": [
  {
   "cell_type": "code",
   "execution_count": 15,
   "metadata": {},
   "outputs": [
    {
     "name": "stdout",
     "output_type": "stream",
     "text": [
      "Gym: 0.17.3\n",
      "Tensorflow: 2.5.0\n"
     ]
    }
   ],
   "source": [
    "import gym\n",
    "import random\n",
    "import numpy as np\n",
    "import tensorflow.compat.v1 as tf\n",
    "tf.disable_v2_behavior()\n",
    "from collections import deque\n",
    "print(\"Gym:\", gym.__version__)\n",
    "print(\"Tensorflow:\", tf.__version__)"
   ]
  },
  {
   "cell_type": "code",
   "execution_count": 16,
   "metadata": {},
   "outputs": [
    {
     "name": "stdout",
     "output_type": "stream",
     "text": [
      "Observation space: Box(-3.4028234663852886e+38, 3.4028234663852886e+38, (4,), float32)\n",
      "Action space: Discrete(2)\n"
     ]
    }
   ],
   "source": [
    "env_name = 'CartPole-v0'\n",
    "env = gym.make(env_name)\n",
    "print(\"Observation space:\", env.observation_space)\n",
    "print(\"Action space:\", env.action_space)"
   ]
  },
  {
   "cell_type": "code",
   "execution_count": 17,
   "metadata": {},
   "outputs": [],
   "source": [
    "class QNetwork():\n",
    "    def __init__(self, state_dim, action_size, tau=0.01):\n",
    "        tf.reset_default_graph()\n",
    "        self.state_in = tf.placeholder(tf.float32, shape=[None, *state_dim])\n",
    "        self.action_in = tf.placeholder(tf.int32, shape=[None])\n",
    "        self.q_target_in = tf.placeholder(tf.float32, shape=[None])\n",
    "        action_one_hot = tf.one_hot(self.action_in, depth=action_size)\n",
    "        \n",
    "        self.q_state_local = self.build_model(action_size, \"local\")\n",
    "        self.q_state_target = self.build_model(action_size, \"target\")\n",
    "        \n",
    "        self.q_state_action = tf.reduce_sum(tf.multiply(self.q_state_local, action_one_hot), axis=1)\n",
    "        self.loss = tf.reduce_mean(tf.square(self.q_state_action - self.q_target_in))\n",
    "        self.optimizer = tf.train.AdamOptimizer(learning_rate=0.001).minimize(self.loss)\n",
    "    \n",
    "        self.local_vars = tf.get_collection(tf.GraphKeys.TRAINABLE_VARIABLES, scope=\"local\")\n",
    "        self.target_vars = tf.get_collection(tf.GraphKeys.TRAINABLE_VARIABLES, scope=\"target\")\n",
    "        self.updater = tf.group([tf.assign(t, t+tau*(l-t)) for t, l in zip(self.target_vars, self.local_vars)])\n",
    "        \n",
    "    def build_model(self, action_size, scope):\n",
    "        with tf.variable_scope(scope):\n",
    "            hidden1 = tf.layers.dense(self.state_in, 100, activation=tf.nn.relu)\n",
    "            q_state = tf.layers.dense(hidden1, action_size, activation=None)\n",
    "            return q_state\n",
    "        \n",
    "    def update_model(self, session, state, action, q_target):\n",
    "        feed = {self.state_in: state, self.action_in: action, self.q_target_in: q_target}\n",
    "        session.run([self.optimizer, self.updater], feed_dict=feed)\n",
    "    \n",
    "    def get_q_state(self, session, state, use_target=False):\n",
    "        q_state_op = self.q_state_target if use_target else self.q_state_local\n",
    "        q_state = session.run(q_state_op, feed_dict={self.state_in: state})\n",
    "        return q_state"
   ]
  },
  {
   "cell_type": "code",
   "execution_count": 18,
   "metadata": {},
   "outputs": [],
   "source": [
    "class ReplayBuffer():\n",
    "    def __init__(self, maxlen):\n",
    "        self.buffer = deque(maxlen=maxlen)\n",
    "        \n",
    "    def add(self, experience):\n",
    "        self.buffer.append(experience)\n",
    "    \n",
    "    def sample(self, batch_size):\n",
    "        sample_size = min(len(self.buffer), batch_size)\n",
    "        samples = random.choices(self.buffer, k=sample_size)\n",
    "        return map(list, zip(*samples))"
   ]
  },
  {
   "cell_type": "code",
   "execution_count": 19,
   "metadata": {},
   "outputs": [],
   "source": [
    "class DDQNAgent():\n",
    "    def __init__(self, env):\n",
    "        self.state_dim = env.observation_space.shape\n",
    "        self.action_size = env.action_space.n\n",
    "        self.q_network = QNetwork(self.state_dim, self.action_size)\n",
    "        self.replay_buffer = ReplayBuffer(maxlen=10000)\n",
    "        self.gamma = 0.97\n",
    "        self.eps = 1.0\n",
    "        \n",
    "        self.sess = tf.Session()\n",
    "        self.sess.run(tf.global_variables_initializer())\n",
    "    \n",
    "    def get_action(self, state):\n",
    "        q_state = self.q_network.get_q_state(self.sess, [state])\n",
    "        action_greedy = np.argmax(q_state)\n",
    "        action_random = np.random.randint(self.action_size)\n",
    "        action = action_random if random.random() < self.eps else action_greedy\n",
    "        return action\n",
    "    \n",
    "    def train(self, state, action, next_state, reward, done, use_DDQN=True):\n",
    "        self.replay_buffer.add((state, action, next_state, reward, done))\n",
    "        states, actions, next_states, rewards, dones = self.replay_buffer.sample(50)\n",
    "        \n",
    "        next_actions = np.argmax(self.q_network.get_q_state(self.sess, next_states, use_target=False), axis=1)\n",
    "        q_next_states = self.q_network.get_q_state(self.sess, next_states, use_target=use_DDQN)\n",
    "        q_next_states[dones] = np.zeros([self.action_size])\n",
    "        q_next_states_next_actions = q_next_states[np.arange(next_actions.shape[0]), next_actions]\n",
    "        q_targets = rewards + self.gamma * q_next_states_next_actions\n",
    "        self.q_network.update_model(self.sess, states, actions, q_targets)\n",
    "        \n",
    "        if done: \n",
    "            self.eps = max(0.1, 0.99*self.eps)\n",
    "    \n",
    "    def __del__(self):\n",
    "        self.sess.close()\n",
    "    "
   ]
  },
  {
   "cell_type": "code",
   "execution_count": 20,
   "metadata": {
    "scrolled": true
   },
   "outputs": [
    {
     "name": "stdout",
     "output_type": "stream",
     "text": [
      "Run 0\n",
      "Run 1\n",
      "Run 2\n",
      "Run 3\n",
      "Run 4\n",
      "Run 5\n"
     ]
    }
   ],
   "source": [
    "num_runs = 6\n",
    "run_rewards = []\n",
    "\n",
    "for n in range(num_runs):\n",
    "    print(\"Run {}\".format(n))\n",
    "    ep_rewards = []\n",
    "    agent = None\n",
    "    agent = DDQNAgent(env)\n",
    "    num_episodes = 200\n",
    "\n",
    "    for ep in range(num_episodes):\n",
    "        state = env.reset()\n",
    "        total_reward = 0\n",
    "        done = False\n",
    "        while not done:\n",
    "            action = agent.get_action(state)\n",
    "            next_state, reward, done, info = env.step(action)\n",
    "            agent.train(state, action, next_state, reward, done, use_DDQN=(n%2==0))\n",
    "#             env.render()\n",
    "            total_reward += reward\n",
    "            state = next_state\n",
    "        \n",
    "        ep_rewards.append(total_reward)\n",
    "#         print(\"Episode: {}, total_reward: {:.2f}\".format(ep, total_reward))\n",
    "        \n",
    "    run_rewards.append(ep_rewards)\n",
    "    \n",
    "env.close()"
   ]
  },
  {
   "cell_type": "code",
   "execution_count": 14,
   "metadata": {},
   "outputs": [
    {
     "data": {
      "text/plain": [
       "<matplotlib.legend.Legend at 0x7f0b3d8336d0>"
      ]
     },
     "execution_count": 14,
     "metadata": {},
     "output_type": "execute_result"
    },
    {
     "data": {
      "image/png": "[encoded data removed]",
      "text/plain": [
       "<Figure size 432x288 with 1 Axes>"
      ]
     },
     "metadata": {
      "needs_background": "light"
     },
     "output_type": "display_data"
    }
   ],
   "source": [
    "import matplotlib.pyplot as plt\n",
    "%matplotlib inline\n",
    "\n",
    "for n, ep_rewards in enumerate(run_rewards):\n",
    "    x = range(len(ep_rewards))\n",
    "    cumsum = np.cumsum(ep_rewards)\n",
    "    avgs = [cumsum[ep]/(ep+1) if ep<100 else (cumsum[ep]-cumsum[ep-100])/100 for ep in x]\n",
    "    col = 'r' if (n%2==0) else 'b'\n",
    "    plt.plot(x, avgs, color=col, label=n)\n",
    "    \n",
    "plt.title(\"DDQN vs DQN performance\")\n",
    "plt.xlabel(\"Episode\")\n",
    "plt.ylabel(\"Last 100 episode average rewards\")\n",
    "plt.legend()"
   ]
  },
  {
   "cell_type": "code",
   "execution_count": null,
   "metadata": {},
   "outputs": [],
   "source": []
  }
 ],
 "metadata": {
  "kernelspec": {
   "display_name": "Python 3",
   "language": "python",
   "name": "python3"
  },
  "language_info": {
   "codemirror_mode": {
    "name": "ipython",
    "version": 3
   },
   "file_extension": ".py",
   "mimetype": "text/x-python",
   "name": "python",
   "nbconvert_exporter": "python",
   "pygments_lexer": "ipython3",
   "version": "3.8.5"
  }
 },
 "nbformat": 4,
 "nbformat_minor": 4
}
