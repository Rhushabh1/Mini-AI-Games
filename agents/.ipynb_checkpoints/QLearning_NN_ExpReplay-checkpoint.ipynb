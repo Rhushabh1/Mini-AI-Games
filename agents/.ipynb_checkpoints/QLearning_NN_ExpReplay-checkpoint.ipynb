{
 "cells": [
  {
   "cell_type": "code",
   "execution_count": 1,
   "metadata": {},
   "outputs": [
    {
     "name": "stdout",
     "output_type": "stream",
     "text": [
      "Tensorflow: 2.5.0\n"
     ]
    }
   ],
   "source": [
    "import numpy as np\n",
    "import random\n",
    "import time\n",
    "import gym\n",
    "import matplotlib.pyplot as plt\n",
    "%matplotlib inline\n",
    "\n",
    "import tensorflow as tf\n",
    "from tensorflow import keras\n",
    "from keras import layers, models, losses, optimizers\n",
    "from keras.layers import Input, Dense, Flatten, Reshape\n",
    "from keras.models import Model\n",
    "\n",
    "from gym.envs.registration import registry, register\n",
    "from IPython.display import clear_output\n",
    "\n",
    "print(\"Tensorflow: {}\".format(tf.__version__))"
   ]
  },
  {
   "cell_type": "code",
   "execution_count": 2,
   "metadata": {},
   "outputs": [],
   "source": [
    "# random agent\n",
    "\n",
    "class Agent():\n",
    "    def __init__(self, env):\n",
    "        self.is_discrete = type(env.action_space) == gym.spaces.discrete.Discrete\n",
    "        \n",
    "        if self.is_discrete:\n",
    "            self.action_size = env.action_space.n\n",
    "            print(\"Action Size: {}\".format(self.action_size))\n",
    "        else:\n",
    "            self.action_low = env.action_space.low\n",
    "            self.action_high = env.action_space.high\n",
    "            self.action_shape = env.action_space.shape\n",
    "            print(\"Action Range: ({}, {}), Shape: {}\".format(self.action_low, self.action_high, self.action_shape))\n",
    "    \n",
    "    def build_model(self):\n",
    "        pass\n",
    "    \n",
    "    def get_action(self, state):\n",
    "        if self.is_discrete:\n",
    "            action = np.random.choice(range(self.action_size))\n",
    "        else:\n",
    "            action = np.random.uniform(self.action_low, self.action_high, self.action_shape)\n",
    "        return action\n",
    "    \n",
    "    def train(self, experience):\n",
    "        pass\n",
    "    "
   ]
  },
  {
   "cell_type": "code",
   "execution_count": 3,
   "metadata": {},
   "outputs": [],
   "source": [
    "# Q-Learning Agent (off-policy algorithm)\n",
    "\n",
    "class QLearning_NN_Agent(Agent):\n",
    "    def __init__(self, env, learning_rate=0.01, discount_rate=0.97, epsilon_decay=0.99):\n",
    "        super().__init__(env)\n",
    "        self.eps = 1.0                            # for epsilon-greedy action\n",
    "        self.learning_rate = learning_rate\n",
    "        self.discount_rate = discount_rate\n",
    "        self.epsilon_decay = epsilon_decay\n",
    "        \n",
    "        self.state_size = env.observation_space.n\n",
    "        print(\"State Size: {}\".format(self.state_size))\n",
    "        self.build_model()\n",
    "    \n",
    "    def build_model(self):\n",
    "        self.state_in = Input(shape=(), dtype=tf.int32)\n",
    "        self.action_in = Input(shape=(), dtype=tf.int32)\n",
    "#         self.target_in = Input(shape=(), dtype=tf.int32)\n",
    "        \n",
    "        self.state = tf.one_hot(self.state_in, depth=self.state_size)\n",
    "        self.action = tf.one_hot(self.action_in, depth=self.action_size)\n",
    "        \n",
    "        self.q_state = Dense(self.action_size, input_shape=(self.state_size,), name='q_table')(self.state)\n",
    "        self.q_action = tf.reduce_sum(self.q_state * self.action)\n",
    "        \n",
    "        self.loss = losses.MeanSquaredError()\n",
    "        self.optimizer = optimizers.Adam(learning_rate=self.learning_rate)\n",
    "        \n",
    "#         for Q(s)\n",
    "        self.model_q_state = Model(inputs=self.state_in, outputs=self.q_state, name='model_q_state')\n",
    "#         for Q(s, a)\n",
    "        self.model_q_action = Model(inputs=[self.state_in, self.action_in], outputs=self.q_action, name='model_q_action')\n",
    "        self.model_q_action.compile(optimizer=self.optimizer, loss=self.loss)\n",
    "#         print summary\n",
    "        self.model_q_state.summary()\n",
    "        self.model_q_action.summary()\n",
    "    \n",
    "    def get_action(self, state):\n",
    "        q_state = self.model_q_state(np.array([state]))\n",
    "        action_greedy = np.argmax(q_state)\n",
    "        action_random = super().get_action(state)\n",
    "        action = action_random if random.random() < self.eps else action_greedy\n",
    "        return action\n",
    "    \n",
    "    def train(self, experience):\n",
    "        state, action, next_state, reward, done = [np.array([exp]) for exp in experience]\n",
    "        \n",
    "        q_next = self.model_q_state(next_state).numpy()\n",
    "        q_next[0, done[0]] = np.zeros([self.action_size])\n",
    "        q_target = reward + self.discount_rate * np.max(q_next)\n",
    "        \n",
    "        self.model_q_action.fit([state, action], q_target, verbose=0)\n",
    "        \n",
    "        if done[0]:\n",
    "            self.eps *= self.epsilon_decay\n",
    "    "
   ]
  },
  {
   "cell_type": "code",
   "execution_count": 4,
   "metadata": {},
   "outputs": [],
   "source": [
    "# to discretize actions\n",
    "\n",
    "class Discretized_Agent(Agent):\n",
    "    def __init__(self, env, n_actions=10):\n",
    "        self.is_discrete = type(env.action_space) == gym.spaces.discrete.Discrete\n",
    "        \n",
    "        if not self.is_discrete:\n",
    "            env.action_space.n = n_actions\n",
    "            self.actions = np.linspace(env.action_space.low, env.action_space.high, n_actions)\n",
    "        super().__init__(env)\n",
    "        \n",
    "    def get_action(self, action):\n",
    "        if not self.is_discrete:\n",
    "            action = self.actions[action]\n",
    "        return action"
   ]
  },
  {
   "cell_type": "code",
   "execution_count": 5,
   "metadata": {},
   "outputs": [
    {
     "name": "stdout",
     "output_type": "stream",
     "text": [
      "Observation Space: Box(-3.4028234663852886e+38, 3.4028234663852886e+38, (4,), float32)\n",
      "Action Space: Discrete(2)\n"
     ]
    }
   ],
   "source": [
    "env_name = 'CartPole-v1'\n",
    "env = gym.make(env_name)\n",
    "print(\"Observation Space:\", env.observation_space)\n",
    "print(\"Action Space:\", env.action_space)"
   ]
  },
  {
   "cell_type": "code",
   "execution_count": 6,
   "metadata": {},
   "outputs": [
    {
     "name": "stdout",
     "output_type": "stream",
     "text": [
      "Observation Space: Discrete(16)\n",
      "Action Space: Discrete(4)\n"
     ]
    }
   ],
   "source": [
    "try:\n",
    "    register(\n",
    "        id='FrozenLakeNoSlip-v0',\n",
    "        entry_point='gym.envs.toy_text:FrozenLakeEnv',\n",
    "        kwargs={'map_name' : '4x4', 'is_slippery' : False},\n",
    "        max_episode_steps=100,\n",
    "        reward_threshold=0.70, # optimum = 0.74\n",
    "    )\n",
    "except:\n",
    "    pass\n",
    "\n",
    "env_name = 'FrozenLakeNoSlip-v0'\n",
    "env = gym.make(env_name)\n",
    "print(\"Observation Space:\", env.observation_space)\n",
    "print(\"Action Space:\", env.action_space)"
   ]
  },
  {
   "cell_type": "code",
   "execution_count": 7,
   "metadata": {
    "scrolled": false
   },
   "outputs": [
    {
     "name": "stdout",
     "output_type": "stream",
     "text": [
      "Action Size: 4\n",
      "State Size: 16\n",
      "Model: \"model_q_state\"\n",
      "_________________________________________________________________\n",
      "Layer (type)                 Output Shape              Param #   \n",
      "=================================================================\n",
      "input_1 (InputLayer)         [(None,)]                 0         \n",
      "_________________________________________________________________\n",
      "tf.one_hot (TFOpLambda)      (None, 16)                0         \n",
      "_________________________________________________________________\n",
      "q_table (Dense)              (None, 4)                 68        \n",
      "=================================================================\n",
      "Total params: 68\n",
      "Trainable params: 68\n",
      "Non-trainable params: 0\n",
      "_________________________________________________________________\n",
      "Model: \"model_q_action\"\n",
      "__________________________________________________________________________________________________\n",
      "Layer (type)                    Output Shape         Param #     Connected to                     \n",
      "==================================================================================================\n",
      "input_1 (InputLayer)            [(None,)]            0                                            \n",
      "__________________________________________________________________________________________________\n",
      "tf.one_hot (TFOpLambda)         (None, 16)           0           input_1[0][0]                    \n",
      "__________________________________________________________________________________________________\n",
      "input_2 (InputLayer)            [(None,)]            0                                            \n",
      "__________________________________________________________________________________________________\n",
      "q_table (Dense)                 (None, 4)            68          tf.one_hot[0][0]                 \n",
      "__________________________________________________________________________________________________\n",
      "tf.one_hot_1 (TFOpLambda)       (None, 4)            0           input_2[0][0]                    \n",
      "__________________________________________________________________________________________________\n",
      "tf.math.multiply (TFOpLambda)   (None, 4)            0           q_table[0][0]                    \n",
      "                                                                 tf.one_hot_1[0][0]               \n",
      "__________________________________________________________________________________________________\n",
      "tf.math.reduce_sum (TFOpLambda) ()                   0           tf.math.multiply[0][0]           \n",
      "==================================================================================================\n",
      "Total params: 68\n",
      "Trainable params: 68\n",
      "Non-trainable params: 0\n",
      "__________________________________________________________________________________________________\n"
     ]
    }
   ],
   "source": [
    "agent = QLearning_NN_Agent(env)\n",
    "\n",
    "NUM_EPISODES = 100\n",
    "last_episode = 0\n",
    "rewards = []               # rewards vs episodes\n",
    "episodes = []              # episodes vs time\n",
    "episode_lengths = []       # episode length vs episodes"
   ]
  },
  {
   "cell_type": "code",
   "execution_count": 12,
   "metadata": {
    "scrolled": false
   },
   "outputs": [
    {
     "name": "stdout",
     "output_type": "stream",
     "text": [
      "Episodes: 499, Total Reward: 377.0, Epsilon: 0.006570483042414605\n",
      "  (Right)\n",
      "SFFF\n",
      "FHFH\n",
      "FFFH\n",
      "HFF\u001b[41mG\u001b[0m\n",
      "[[ 0.16287962  0.18769906  0.4694516   0.01364435]\n",
      " [ 0.1639186  -0.67590356  0.49906158  0.07117354]\n",
      " [ 0.15937099  0.29046533  0.44781503  0.03252501]\n",
      " [ 0.23188855 -0.30257672  0.34135747  0.02596185]\n",
      " [ 0.11440143  0.22964236 -0.35007298 -0.12760355]\n",
      " [-0.30409732  0.5379032  -0.28211755 -0.4812525 ]\n",
      " [-0.66625243  0.3210662  -0.3775792   0.06346245]\n",
      " [ 0.40678954  0.4874208   0.45301104  0.01793861]\n",
      " [ 0.17986272 -0.7077197   0.5680533  -0.02914606]\n",
      " [ 0.21192642  0.26060605 -0.02159293 -0.82385385]\n",
      " [ 0.274226    0.35143718 -0.38807496  0.12348725]\n",
      " [ 0.2670117  -0.36848074  0.02236933  0.35570174]\n",
      " [-0.48570055 -0.36400253 -0.29734662  0.5452707 ]\n",
      " [-0.3716268   0.21591662  0.5299448   0.0594557 ]\n",
      " [ 0.3066913   0.16719986  0.6067687   0.16017593]\n",
      " [ 0.21567047  0.03401065 -0.41572958 -0.1267955 ]]\n"
     ]
    }
   ],
   "source": [
    "for ep in range(last_episode, last_episode + NUM_EPISODES):\n",
    "    done = False\n",
    "    state = env.reset()\n",
    "    total_reward = 0\n",
    "    length = 0\n",
    "    \n",
    "    while not done:\n",
    "        action = agent.get_action(state)\n",
    "        next_state, reward, done, info = env.step(action)\n",
    "        agent.train((state, action, next_state, reward, done))\n",
    "        state = next_state\n",
    "        \n",
    "        total_reward += reward\n",
    "        length += 1\n",
    "        episodes.append(ep)\n",
    "        \n",
    "        print(\"Episodes: {}, Total Reward: {}, Epsilon: {}\".format(ep, sum(rewards), agent.eps))\n",
    "        env.render()\n",
    "        weights = agent.model_q_action.get_layer('q_table').get_weights()\n",
    "        print(weights[0])\n",
    "#         time.sleep(0.05)\n",
    "        clear_output(wait=True)\n",
    "        \n",
    "    rewards.append(total_reward)\n",
    "    episode_lengths.append(length)\n",
    "    \n",
    "last_episode += NUM_EPISODES\n",
    "env.close()"
   ]
  },
  {
   "cell_type": "code",
   "execution_count": 18,
   "metadata": {},
   "outputs": [
    {
     "data": {
      "image/png": "[encoded data removed]",
      "text/plain": [
       "<Figure size 432x288 with 1 Axes>"
      ]
     },
     "metadata": {
      "needs_background": "light"
     },
     "output_type": "display_data"
    },
    {
     "data": {
      "image/png": "[encoded data removed]",
      "text/plain": [
       "<Figure size 432x288 with 1 Axes>"
      ]
     },
     "metadata": {
      "needs_background": "light"
     },
     "output_type": "display_data"
    },
    {
     "data": {
      "image/png": "[encoded data removed]",
      "text/plain": [
       "<Figure size 432x288 with 1 Axes>"
      ]
     },
     "metadata": {
      "needs_background": "light"
     },
     "output_type": "display_data"
    }
   ],
   "source": [
    "# plot statistics\n",
    "'''\n",
    "create 'Statistic' class\n",
    "and 'PlotStatistics' class takes list of Statistic objects as input \n",
    "and combines their plots together into a single graph\n",
    "'''\n",
    "\n",
    "# rewards vs episodes\n",
    "plt.scatter(range(len(rewards)), rewards, s=1)\n",
    "plt.xlabel(\"Episode\")\n",
    "plt.ylabel(\"Reward\")\n",
    "plt.show()\n",
    "\n",
    "# episodes vs time\n",
    "plt.plot(episodes)\n",
    "plt.xlabel(\"Timestep\")\n",
    "plt.ylabel(\"Episode\")\n",
    "plt.show()\n",
    "\n",
    "# episode length vs episodes\n",
    "plt.scatter(range(len(episode_lengths)), episode_lengths, s=1)\n",
    "plt.xlabel(\"Episode\")\n",
    "plt.ylabel(\"Episode Length\")\n",
    "plt.show()"
   ]
  },
  {
   "cell_type": "code",
   "execution_count": null,
   "metadata": {},
   "outputs": [],
   "source": []
  }
 ],
 "metadata": {
  "kernelspec": {
   "display_name": "Python 3",
   "language": "python",
   "name": "python3"
  },
  "language_info": {
   "codemirror_mode": {
    "name": "ipython",
    "version": 3
   },
   "file_extension": ".py",
   "mimetype": "text/x-python",
   "name": "python",
   "nbconvert_exporter": "python",
   "pygments_lexer": "ipython3",
   "version": "3.8.10"
  }
 },
 "nbformat": 4,
 "nbformat_minor": 4
}
