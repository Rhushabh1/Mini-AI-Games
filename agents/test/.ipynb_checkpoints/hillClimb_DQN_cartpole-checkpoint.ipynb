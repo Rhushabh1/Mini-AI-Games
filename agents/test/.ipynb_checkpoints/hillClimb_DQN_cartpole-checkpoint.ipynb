{
 "cells": [
  {
   "cell_type": "code",
   "execution_count": 1,
   "metadata": {},
   "outputs": [
    {
     "name": "stdout",
     "output_type": "stream",
     "text": [
      "WARNING:tensorflow:From /home/rhushabh/.local/lib/python3.8/site-packages/tensorflow/python/compat/v2_compat.py:96: disable_resource_variables (from tensorflow.python.ops.variable_scope) is deprecated and will be removed in a future version.\n",
      "Instructions for updating:\n",
      "non-resource variables are not supported in the long term\n",
      "Gym: 0.17.3\n",
      "Tensorflow: 2.5.0\n"
     ]
    }
   ],
   "source": [
    "import gym\n",
    "import random\n",
    "import numpy as np\n",
    "import tensorflow.compat.v1 as tf\n",
    "tf.disable_v2_behavior()\n",
    "from collections import deque\n",
    "print(\"Gym:\", gym.__version__)\n",
    "print(\"Tensorflow:\", tf.__version__)"
   ]
  },
  {
   "cell_type": "code",
   "execution_count": 2,
   "metadata": {},
   "outputs": [
    {
     "name": "stdout",
     "output_type": "stream",
     "text": [
      "Observation space: Box(-3.4028234663852886e+38, 3.4028234663852886e+38, (4,), float32)\n",
      "Action space: Discrete(2)\n"
     ]
    }
   ],
   "source": [
    "env_name = 'CartPole-v0'\n",
    "env = gym.make(env_name)\n",
    "print(\"Observation space:\", env.observation_space)\n",
    "print(\"Action space:\", env.action_space)"
   ]
  },
  {
   "cell_type": "code",
   "execution_count": 3,
   "metadata": {},
   "outputs": [],
   "source": [
    "class QNetwork():\n",
    "    def __init__(self, state_dim, action_size):\n",
    "        self.state_in = tf.placeholder(tf.float32, shape=[None, *state_dim])\n",
    "        self.action_in = tf.placeholder(tf.int32, shape=[None])\n",
    "        self.q_target_in = tf.placeholder(tf.float32, shape=[None])\n",
    "        action_one_hot = tf.one_hot(self.action_in, depth=action_size)\n",
    "        \n",
    "        self.hidden1 = tf.layers.dense(self.state_in, 100, activation=tf.nn.relu)\n",
    "        self.q_state = tf.layers.dense(self.hidden1, action_size, activation=None)\n",
    "        self.q_state_action = tf.reduce_sum(tf.multiply(self.q_state, action_one_hot), axis=1)\n",
    "        \n",
    "        self.loss = tf.reduce_mean(tf.square(self.q_state_action - self.q_target_in))\n",
    "        self.optimizer = tf.train.AdamOptimizer(learning_rate=0.001).minimize(self.loss)\n",
    "    \n",
    "    def update_model(self, session, state, action, q_target):\n",
    "        feed = {self.state_in: state, self.action_in: action, self.q_target_in: q_target}\n",
    "        session.run(self.optimizer, feed_dict=feed)\n",
    "    \n",
    "    def get_q_state(self, session, state):\n",
    "        q_state = session.run(self.q_state, feed_dict={self.state_in: state})\n",
    "        return q_state"
   ]
  },
  {
   "cell_type": "code",
   "execution_count": 4,
   "metadata": {},
   "outputs": [],
   "source": [
    "class ReplayBuffer():\n",
    "    def __init__(self, maxlen):\n",
    "        self.buffer = deque(maxlen=maxlen)\n",
    "        \n",
    "    def add(self, experience):\n",
    "        self.buffer.append(experience)\n",
    "    \n",
    "    def sample(self, batch_size):\n",
    "        sample_size = min(len(self.buffer), batch_size)\n",
    "        samples = random.choices(self.buffer, k=sample_size)\n",
    "        return map(list, zip(*samples))"
   ]
  },
  {
   "cell_type": "code",
   "execution_count": 5,
   "metadata": {},
   "outputs": [
    {
     "name": "stderr",
     "output_type": "stream",
     "text": [
      "/home/rhushabh/.local/lib/python3.8/site-packages/tensorflow/python/keras/legacy_tf_layers/core.py:171: UserWarning: `tf.layers.dense` is deprecated and will be removed in a future version. Please use `tf.keras.layers.Dense` instead.\n",
      "  warnings.warn('`tf.layers.dense` is deprecated and '\n",
      "/home/rhushabh/.local/lib/python3.8/site-packages/tensorflow/python/keras/engine/base_layer_v1.py:1692: UserWarning: `layer.apply` is deprecated and will be removed in a future version. Please use `layer.__call__` method instead.\n",
      "  warnings.warn('`layer.apply` is deprecated and '\n"
     ]
    }
   ],
   "source": [
    "class DQNAgent():\n",
    "    def __init__(self, env):\n",
    "        self.state_dim = env.observation_space.shape\n",
    "        self.action_size = env.action_space.n\n",
    "        self.q_network = QNetwork(self.state_dim, self.action_size)\n",
    "        self.replay_buffer = ReplayBuffer(maxlen=10000)\n",
    "        self.gamma = 0.97\n",
    "        self.eps = 1.0\n",
    "        \n",
    "        self.sess = tf.Session()\n",
    "        self.sess.run(tf.global_variables_initializer())\n",
    "    \n",
    "    def get_action(self, state):\n",
    "        q_state = self.q_network.get_q_state(self.sess, [state])\n",
    "        action_greedy = np.argmax(q_state)\n",
    "        action_random = np.random.randint(self.action_size)\n",
    "        action = action_random if random.random() < self.eps else action_greedy\n",
    "        return action\n",
    "    \n",
    "    def train(self, state, action, next_state, reward, done):\n",
    "        self.replay_buffer.add((state, action, next_state, reward, done))\n",
    "        states, actions, next_states, rewards, dones = self.replay_buffer.sample(50)\n",
    "        q_next_states = self.q_network.get_q_state(self.sess, next_states)\n",
    "        q_next_states[dones] = np.zeros([self.action_size])\n",
    "        q_targets = rewards + self.gamma*np.max(q_next_states, axis=1)\n",
    "        self.q_network.update_model(self.sess, states, actions, q_targets)\n",
    "        \n",
    "        if done: \n",
    "            self.eps = max(0.1, 0.99*self.eps)\n",
    "    \n",
    "    def __del__(self):\n",
    "        self.sess.close()\n",
    "        \n",
    "agent = DQNAgent(env)"
   ]
  },
  {
   "cell_type": "code",
   "execution_count": 6,
   "metadata": {
    "scrolled": false
   },
   "outputs": [
    {
     "name": "stdout",
     "output_type": "stream",
     "text": [
      "Episode: 0, total_reward: 26.00\n",
      "Episode: 1, total_reward: 14.00\n",
      "Episode: 2, total_reward: 14.00\n",
      "Episode: 3, total_reward: 13.00\n",
      "Episode: 4, total_reward: 16.00\n",
      "Episode: 5, total_reward: 25.00\n",
      "Episode: 6, total_reward: 49.00\n",
      "Episode: 7, total_reward: 13.00\n",
      "Episode: 8, total_reward: 23.00\n",
      "Episode: 9, total_reward: 10.00\n",
      "Episode: 10, total_reward: 34.00\n",
      "Episode: 11, total_reward: 17.00\n",
      "Episode: 12, total_reward: 21.00\n",
      "Episode: 13, total_reward: 12.00\n",
      "Episode: 14, total_reward: 16.00\n",
      "Episode: 15, total_reward: 23.00\n",
      "Episode: 16, total_reward: 10.00\n",
      "Episode: 17, total_reward: 16.00\n",
      "Episode: 18, total_reward: 12.00\n",
      "Episode: 19, total_reward: 47.00\n",
      "Episode: 20, total_reward: 17.00\n",
      "Episode: 21, total_reward: 19.00\n",
      "Episode: 22, total_reward: 17.00\n",
      "Episode: 23, total_reward: 27.00\n",
      "Episode: 24, total_reward: 16.00\n",
      "Episode: 25, total_reward: 12.00\n",
      "Episode: 26, total_reward: 13.00\n",
      "Episode: 27, total_reward: 21.00\n",
      "Episode: 28, total_reward: 54.00\n",
      "Episode: 29, total_reward: 15.00\n",
      "Episode: 30, total_reward: 30.00\n",
      "Episode: 31, total_reward: 19.00\n",
      "Episode: 32, total_reward: 24.00\n",
      "Episode: 33, total_reward: 23.00\n",
      "Episode: 34, total_reward: 18.00\n",
      "Episode: 35, total_reward: 15.00\n",
      "Episode: 36, total_reward: 45.00\n",
      "Episode: 37, total_reward: 24.00\n",
      "Episode: 38, total_reward: 27.00\n",
      "Episode: 39, total_reward: 27.00\n",
      "Episode: 40, total_reward: 37.00\n",
      "Episode: 41, total_reward: 18.00\n",
      "Episode: 42, total_reward: 76.00\n",
      "Episode: 43, total_reward: 23.00\n",
      "Episode: 44, total_reward: 71.00\n",
      "Episode: 45, total_reward: 16.00\n",
      "Episode: 46, total_reward: 42.00\n",
      "Episode: 47, total_reward: 57.00\n",
      "Episode: 48, total_reward: 70.00\n",
      "Episode: 49, total_reward: 36.00\n",
      "Episode: 50, total_reward: 34.00\n",
      "Episode: 51, total_reward: 66.00\n",
      "Episode: 52, total_reward: 13.00\n",
      "Episode: 53, total_reward: 59.00\n",
      "Episode: 54, total_reward: 33.00\n",
      "Episode: 55, total_reward: 48.00\n",
      "Episode: 56, total_reward: 95.00\n",
      "Episode: 57, total_reward: 33.00\n",
      "Episode: 58, total_reward: 18.00\n",
      "Episode: 59, total_reward: 37.00\n",
      "Episode: 60, total_reward: 33.00\n",
      "Episode: 61, total_reward: 70.00\n",
      "Episode: 62, total_reward: 60.00\n",
      "Episode: 63, total_reward: 33.00\n",
      "Episode: 64, total_reward: 103.00\n",
      "Episode: 65, total_reward: 72.00\n",
      "Episode: 66, total_reward: 89.00\n",
      "Episode: 67, total_reward: 105.00\n",
      "Episode: 68, total_reward: 98.00\n",
      "Episode: 69, total_reward: 41.00\n",
      "Episode: 70, total_reward: 24.00\n",
      "Episode: 71, total_reward: 86.00\n",
      "Episode: 72, total_reward: 145.00\n",
      "Episode: 73, total_reward: 123.00\n",
      "Episode: 74, total_reward: 56.00\n",
      "Episode: 75, total_reward: 98.00\n",
      "Episode: 76, total_reward: 96.00\n",
      "Episode: 77, total_reward: 27.00\n",
      "Episode: 78, total_reward: 105.00\n",
      "Episode: 79, total_reward: 167.00\n",
      "Episode: 80, total_reward: 117.00\n",
      "Episode: 81, total_reward: 93.00\n",
      "Episode: 82, total_reward: 200.00\n",
      "Episode: 83, total_reward: 191.00\n",
      "Episode: 84, total_reward: 200.00\n",
      "Episode: 85, total_reward: 200.00\n",
      "Episode: 86, total_reward: 174.00\n",
      "Episode: 87, total_reward: 74.00\n",
      "Episode: 88, total_reward: 200.00\n",
      "Episode: 89, total_reward: 200.00\n",
      "Episode: 90, total_reward: 200.00\n",
      "Episode: 91, total_reward: 200.00\n",
      "Episode: 92, total_reward: 200.00\n",
      "Episode: 93, total_reward: 121.00\n",
      "Episode: 94, total_reward: 42.00\n",
      "Episode: 95, total_reward: 198.00\n",
      "Episode: 96, total_reward: 200.00\n",
      "Episode: 97, total_reward: 59.00\n",
      "Episode: 98, total_reward: 200.00\n",
      "Episode: 99, total_reward: 200.00\n"
     ]
    }
   ],
   "source": [
    "num_episodes = 100\n",
    "\n",
    "for ep in range(num_episodes):\n",
    "    state = env.reset()\n",
    "    total_reward = 0\n",
    "    done = False\n",
    "    while not done:\n",
    "        action = agent.get_action(state)\n",
    "        next_state, reward, done, info = env.step(action)\n",
    "        agent.train(state, action, next_state, reward, done)\n",
    "        env.render()\n",
    "        total_reward += reward\n",
    "        state = next_state\n",
    "    \n",
    "    print(\"Episode: {}, total_reward: {:.2f}\".format(ep, total_reward))\n",
    "\n",
    "    env.close()"
   ]
  },
  {
   "cell_type": "code",
   "execution_count": null,
   "metadata": {},
   "outputs": [],
   "source": []
  }
 ],
 "metadata": {
  "kernelspec": {
   "display_name": "Python 3",
   "language": "python",
   "name": "python3"
  },
  "language_info": {
   "codemirror_mode": {
    "name": "ipython",
    "version": 3
   },
   "file_extension": ".py",
   "mimetype": "text/x-python",
   "name": "python",
   "nbconvert_exporter": "python",
   "pygments_lexer": "ipython3",
   "version": "3.8.10"
  }
 },
 "nbformat": 4,
 "nbformat_minor": 4
}
