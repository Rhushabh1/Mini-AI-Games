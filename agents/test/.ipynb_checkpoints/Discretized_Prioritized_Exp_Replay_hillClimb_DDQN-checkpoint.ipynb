{
 "cells": [
  {
   "cell_type": "code",
   "execution_count": 1,
   "metadata": {},
   "outputs": [
    {
     "name": "stdout",
     "output_type": "stream",
     "text": [
      "WARNING:tensorflow:From /home/rhushabh/.local/lib/python3.8/site-packages/tensorflow/python/compat/v2_compat.py:96: disable_resource_variables (from tensorflow.python.ops.variable_scope) is deprecated and will be removed in a future version.\n",
      "Instructions for updating:\n",
      "non-resource variables are not supported in the long term\n",
      "Gym: 0.17.3\n",
      "Tensorflow: 2.5.0\n"
     ]
    }
   ],
   "source": [
    "import gym\n",
    "import random\n",
    "import numpy as np\n",
    "import tensorflow.compat.v1 as tf\n",
    "tf.disable_v2_behavior()\n",
    "from collections import deque\n",
    "print(\"Gym:\", gym.__version__)\n",
    "print(\"Tensorflow:\", tf.__version__)"
   ]
  },
  {
   "cell_type": "code",
   "execution_count": 2,
   "metadata": {},
   "outputs": [],
   "source": [
    "class QNetwork():\n",
    "    def __init__(self, state_dim, action_size, tau=0.01):\n",
    "        tf.reset_default_graph()\n",
    "        self.state_in = tf.placeholder(tf.float32, shape=[None, *state_dim])\n",
    "        self.action_in = tf.placeholder(tf.int32, shape=[None])\n",
    "        self.q_target_in = tf.placeholder(tf.float32, shape=[None])\n",
    "        self.importance_in = tf.placeholder(tf.float32, shape=[None])\n",
    "        action_one_hot = tf.one_hot(self.action_in, depth=action_size)\n",
    "        \n",
    "        self.q_state_local = self.build_model(action_size, \"local\")\n",
    "        self.q_state_target = self.build_model(action_size, \"target\")\n",
    "        \n",
    "        self.q_state_action = tf.reduce_sum(tf.multiply(self.q_state_local, action_one_hot), axis=1)\n",
    "        self.error = self.q_state_action - self.q_target_in\n",
    "        self.loss = tf.reduce_mean(tf.multiply(tf.square(self.error), self.importance_in))\n",
    "        self.optimizer = tf.train.AdamOptimizer(learning_rate=0.001).minimize(self.loss)\n",
    "        \n",
    "        self.local_vars = tf.get_collection(tf.GraphKeys.TRAINABLE_VARIABLES, scope=\"local\")\n",
    "        self.target_vars = tf.get_collection(tf.GraphKeys.TRAINABLE_VARIABLES, scope=\"target\")\n",
    "        self.updater = tf.group([tf.assign(t, t + tau*(l-t)) for t,l in zip(self.target_vars, self.local_vars)])\n",
    "        \n",
    "    def build_model(self, action_size, scope):\n",
    "        with tf.variable_scope(scope):\n",
    "            hidden1 = tf.layers.dense(self.state_in, 100, activation=tf.nn.relu)\n",
    "            q_state = tf.layers.dense(hidden1, action_size, activation=None)\n",
    "            return q_state\n",
    "        \n",
    "    def update_model(self, session, state, action, q_target, importance):\n",
    "        feed = {self.state_in: state, self.action_in: action, self.q_target_in: q_target, self.importance_in: importance}\n",
    "        error, _, _ = session.run([self.error, self.optimizer, self.updater], feed_dict=feed)\n",
    "        return error\n",
    "        \n",
    "    def get_q_state(self, session, state, use_target=False):\n",
    "        q_state_op = self.q_state_target if use_target else self.q_state_local\n",
    "        q_state = session.run(q_state_op, feed_dict={self.state_in: state})\n",
    "        return q_state"
   ]
  },
  {
   "cell_type": "code",
   "execution_count": 3,
   "metadata": {},
   "outputs": [],
   "source": [
    "class PrioritizedReplayBuffer():\n",
    "    def __init__(self, maxlen):\n",
    "        self.buffer = deque(maxlen=maxlen)\n",
    "        self.priorities = deque(maxlen=maxlen)\n",
    "        \n",
    "    def add(self, experience):\n",
    "        self.buffer.append(experience)\n",
    "        self.priorities.append(max(self.priorities, default=1))\n",
    "        \n",
    "    def get_probabilities(self, priority_scale):\n",
    "        scaled_priorities = np.array(self.priorities) ** priority_scale\n",
    "        sample_probabilities = scaled_priorities / sum(scaled_priorities)\n",
    "        return sample_probabilities\n",
    "    \n",
    "    def get_importance(self, probabilities):\n",
    "        importance = 1/len(self.buffer) * 1/probabilities\n",
    "        importance_normalized = importance / max(importance)\n",
    "        return importance_normalized\n",
    "        \n",
    "    def sample(self, batch_size, priority_scale=1.0):\n",
    "        sample_size = min(len(self.buffer), batch_size)\n",
    "        sample_probs = self.get_probabilities(priority_scale)\n",
    "        sample_indices = random.choices(range(len(self.buffer)), k=sample_size, weights=sample_probs)\n",
    "        samples = np.array(self.buffer)[sample_indices]\n",
    "        importance = self.get_importance(sample_probs[sample_indices])\n",
    "        return map(list, zip(*samples)), importance, sample_indices\n",
    "    \n",
    "    def set_priorities(self, indices, errors, offset=0.1):\n",
    "        for i,e in zip(indices, errors):\n",
    "            self.priorities[i] = abs(e) + offset"
   ]
  },
  {
   "cell_type": "code",
   "execution_count": 4,
   "metadata": {},
   "outputs": [],
   "source": [
    "class DDQNAgent():\n",
    "    def __init__(self, env):\n",
    "        self.state_dim = env.observation_space.shape\n",
    "        self.action_size = env.action_space.n\n",
    "        self.q_network = QNetwork(self.state_dim, self.action_size)\n",
    "        self.replay_buffer = PrioritizedReplayBuffer(maxlen=100000)\n",
    "        self.gamma = 0.97\n",
    "        self.eps = 1.0\n",
    "        \n",
    "        self.sess = tf.Session()\n",
    "        self.sess.run(tf.global_variables_initializer())\n",
    "        \n",
    "    def get_action(self, state):\n",
    "        q_state = self.q_network.get_q_state(self.sess, [state])\n",
    "        action_greedy = np.argmax(q_state)\n",
    "        action_random = np.random.randint(self.action_size)\n",
    "        action = action_random if random.random() < self.eps else action_greedy\n",
    "        return action\n",
    "    \n",
    "    def get_env_action(self, action):\n",
    "        return action\n",
    "    \n",
    "    def train(self, state, action, next_state, reward, done, use_DDQN=True, a=0.0):\n",
    "        self.replay_buffer.add((state, action, next_state, reward, done))\n",
    "        (states, actions, next_states, rewards, dones), importance, indices = self.replay_buffer.sample(50, priority_scale=a)\n",
    "        \n",
    "        next_actions = np.argmax(self.q_network.get_q_state(self.sess, next_states, use_target=False), axis=1)\n",
    "        q_next_states = self.q_network.get_q_state(self.sess, next_states, use_target=use_DDQN)\n",
    "        q_next_states[dones] = np.zeros([self.action_size])\n",
    "        q_next_states_next_actions = q_next_states[np.arange(next_actions.shape[0]), next_actions]\n",
    "        q_targets = rewards + self.gamma * q_next_states_next_actions\n",
    "        errors = self.q_network.update_model(self.sess, states, actions, q_targets, importance**(1-self.eps))\n",
    "        \n",
    "        self.replay_buffer.set_priorities(indices, errors)\n",
    "        \n",
    "        if done: self.eps = max(0.1, 0.98*self.eps)\n",
    "    \n",
    "    def __del__(self):\n",
    "        self.sess.close()"
   ]
  },
  {
   "cell_type": "code",
   "execution_count": 5,
   "metadata": {},
   "outputs": [],
   "source": [
    "class DiscretizedDQNAgent(DDQNAgent):\n",
    "    def __init__(self, env, n_actions=10):\n",
    "        self.is_discrete = type(env.action_space) == gym.spaces.discrete.Discrete\n",
    "        if not self.is_discrete:\n",
    "            env.action_space.n = n_actions\n",
    "            self.actions = np.linspace(env.action_space.low, env.action_space.high, n_actions)\n",
    "        super().__init__(env)\n",
    "        \n",
    "    def get_env_action(self, action):\n",
    "        if not self.is_discrete:\n",
    "            action = [self.actions[action, 0]]\n",
    "        return action"
   ]
  },
  {
   "cell_type": "code",
   "execution_count": 9,
   "metadata": {},
   "outputs": [
    {
     "name": "stdout",
     "output_type": "stream",
     "text": [
      "Observation space: Box(-28.274333953857422, 28.274333953857422, (6,), float32)\n",
      "Action space: Discrete(3)\n"
     ]
    }
   ],
   "source": [
    "env_names = ['CartPole-v0',\n",
    "            'MountainCar-v0', \n",
    "            'MountainCarContinuous-v0',\n",
    "            'Pendulum-v0',\n",
    "            'Acrobot-v1']\n",
    "env = gym.make(env_names[4])\n",
    "print(\"Observation space:\", env.observation_space)\n",
    "print(\"Action space:\", env.action_space)"
   ]
  },
  {
   "cell_type": "code",
   "execution_count": 10,
   "metadata": {
    "scrolled": true
   },
   "outputs": [
    {
     "name": "stdout",
     "output_type": "stream",
     "text": [
      "Run 0\n"
     ]
    },
    {
     "name": "stderr",
     "output_type": "stream",
     "text": [
      "/home/rhushabh/.local/lib/python3.8/site-packages/tensorflow/python/keras/legacy_tf_layers/core.py:171: UserWarning: `tf.layers.dense` is deprecated and will be removed in a future version. Please use `tf.keras.layers.Dense` instead.\n",
      "  warnings.warn('`tf.layers.dense` is deprecated and '\n",
      "/home/rhushabh/.local/lib/python3.8/site-packages/tensorflow/python/keras/engine/base_layer_v1.py:1692: UserWarning: `layer.apply` is deprecated and will be removed in a future version. Please use `layer.__call__` method instead.\n",
      "  warnings.warn('`layer.apply` is deprecated and '\n",
      "<ipython-input-3-b4d7a37aec8f>:24: VisibleDeprecationWarning: Creating an ndarray from ragged nested sequences (which is a list-or-tuple of lists-or-tuples-or ndarrays with different lengths or shapes) is deprecated. If you meant to do this, you must specify 'dtype=object' when creating the ndarray\n",
      "  samples = np.array(self.buffer)[sample_indices]\n"
     ]
    },
    {
     "name": "stdout",
     "output_type": "stream",
     "text": [
      "Episode: 0, total_reward: -500.00\n",
      "Episode: 1, total_reward: -500.00\n",
      "Episode: 2, total_reward: -500.00\n",
      "Episode: 3, total_reward: -500.00\n",
      "Episode: 4, total_reward: -500.00\n",
      "Episode: 5, total_reward: -500.00\n",
      "Episode: 6, total_reward: -500.00\n",
      "Episode: 7, total_reward: -500.00\n",
      "Episode: 8, total_reward: -426.00\n",
      "Episode: 9, total_reward: -437.00\n",
      "Episode: 10, total_reward: -353.00\n",
      "Episode: 11, total_reward: -341.00\n",
      "Episode: 12, total_reward: -500.00\n",
      "Episode: 13, total_reward: -409.00\n",
      "Episode: 14, total_reward: -500.00\n",
      "Episode: 15, total_reward: -411.00\n",
      "Episode: 16, total_reward: -365.00\n",
      "Episode: 17, total_reward: -298.00\n",
      "Episode: 18, total_reward: -357.00\n",
      "Episode: 19, total_reward: -286.00\n",
      "Episode: 20, total_reward: -500.00\n",
      "Episode: 21, total_reward: -310.00\n",
      "Episode: 22, total_reward: -312.00\n",
      "Episode: 23, total_reward: -321.00\n",
      "Episode: 24, total_reward: -500.00\n",
      "Episode: 25, total_reward: -270.00\n",
      "Episode: 26, total_reward: -304.00\n",
      "Episode: 27, total_reward: -232.00\n",
      "Episode: 28, total_reward: -272.00\n",
      "Episode: 29, total_reward: -197.00\n",
      "Episode: 30, total_reward: -251.00\n",
      "Episode: 31, total_reward: -136.00\n",
      "Episode: 32, total_reward: -255.00\n",
      "Episode: 33, total_reward: -128.00\n",
      "Episode: 34, total_reward: -273.00\n",
      "Episode: 35, total_reward: -161.00\n",
      "Episode: 36, total_reward: -157.00\n",
      "Episode: 37, total_reward: -291.00\n",
      "Episode: 38, total_reward: -335.00\n",
      "Episode: 39, total_reward: -139.00\n",
      "Episode: 40, total_reward: -165.00\n",
      "Episode: 41, total_reward: -226.00\n",
      "Episode: 42, total_reward: -189.00\n",
      "Episode: 43, total_reward: -149.00\n",
      "Episode: 44, total_reward: -196.00\n",
      "Episode: 45, total_reward: -410.00\n",
      "Episode: 46, total_reward: -109.00\n",
      "Episode: 47, total_reward: -173.00\n",
      "Episode: 48, total_reward: -145.00\n",
      "Episode: 49, total_reward: -211.00\n",
      "Episode: 50, total_reward: -168.00\n",
      "Episode: 51, total_reward: -243.00\n",
      "Episode: 52, total_reward: -199.00\n",
      "Episode: 53, total_reward: -209.00\n",
      "Episode: 54, total_reward: -178.00\n",
      "Episode: 55, total_reward: -203.00\n",
      "Episode: 56, total_reward: -203.00\n",
      "Episode: 57, total_reward: -186.00\n",
      "Episode: 58, total_reward: -121.00\n",
      "Episode: 59, total_reward: -132.00\n",
      "Episode: 60, total_reward: -119.00\n",
      "Episode: 61, total_reward: -204.00\n",
      "Episode: 62, total_reward: -109.00\n",
      "Episode: 63, total_reward: -192.00\n",
      "Episode: 64, total_reward: -143.00\n",
      "Episode: 65, total_reward: -115.00\n",
      "Episode: 66, total_reward: -113.00\n",
      "Episode: 67, total_reward: -148.00\n",
      "Episode: 68, total_reward: -97.00\n",
      "Episode: 69, total_reward: -116.00\n",
      "Episode: 70, total_reward: -126.00\n",
      "Episode: 71, total_reward: -232.00\n",
      "Episode: 72, total_reward: -114.00\n",
      "Episode: 73, total_reward: -108.00\n",
      "Episode: 74, total_reward: -148.00\n",
      "Episode: 75, total_reward: -137.00\n",
      "Episode: 76, total_reward: -105.00\n",
      "Episode: 77, total_reward: -147.00\n",
      "Episode: 78, total_reward: -196.00\n",
      "Episode: 79, total_reward: -99.00\n",
      "Episode: 80, total_reward: -259.00\n",
      "Episode: 81, total_reward: -197.00\n",
      "Episode: 82, total_reward: -141.00\n",
      "Episode: 83, total_reward: -161.00\n",
      "Episode: 84, total_reward: -85.00\n",
      "Episode: 85, total_reward: -132.00\n",
      "Episode: 86, total_reward: -126.00\n",
      "Episode: 87, total_reward: -176.00\n",
      "Episode: 88, total_reward: -124.00\n",
      "Episode: 89, total_reward: -135.00\n",
      "Episode: 90, total_reward: -105.00\n",
      "Episode: 91, total_reward: -102.00\n",
      "Episode: 92, total_reward: -149.00\n",
      "Episode: 93, total_reward: -112.00\n",
      "Episode: 94, total_reward: -98.00\n",
      "Episode: 95, total_reward: -106.00\n",
      "Episode: 96, total_reward: -87.00\n",
      "Episode: 97, total_reward: -101.00\n",
      "Episode: 98, total_reward: -138.00\n",
      "Episode: 99, total_reward: -152.00\n"
     ]
    }
   ],
   "source": [
    "num_runs = 1\n",
    "run_rewards = []\n",
    "\n",
    "for n in range(num_runs):\n",
    "    print(\"Run {}\".format(n))\n",
    "    ep_rewards = []\n",
    "    agent = None\n",
    "    agent = DiscretizedDQNAgent(env)\n",
    "    num_episodes = 100\n",
    "\n",
    "    for ep in range(num_episodes):\n",
    "        state = env.reset()\n",
    "        total_reward = 0\n",
    "        done = False\n",
    "        while not done:\n",
    "            action = agent.get_action(state)\n",
    "            next_state, reward, done, info = env.step(agent.get_env_action(action))\n",
    "            agent.train(state, action, next_state, reward, done, a=0.7)\n",
    "            env.render()\n",
    "            total_reward += reward\n",
    "            state = next_state\n",
    "\n",
    "        ep_rewards.append(total_reward)\n",
    "        print(\"Episode: {}, total_reward: {:.2f}\".format(ep, total_reward))\n",
    "        \n",
    "    run_rewards.append(ep_rewards)\n",
    "    \n",
    "env.close()"
   ]
  },
  {
   "cell_type": "code",
   "execution_count": 11,
   "metadata": {},
   "outputs": [
    {
     "data": {
      "text/plain": [
       "<matplotlib.legend.Legend at 0x7f5d35a37730>"
      ]
     },
     "execution_count": 11,
     "metadata": {},
     "output_type": "execute_result"
    },
    {
     "data": {
      "image/png": "[encoded data removed]",
      "text/plain": [
       "<Figure size 432x288 with 1 Axes>"
      ]
     },
     "metadata": {
      "needs_background": "light"
     },
     "output_type": "display_data"
    }
   ],
   "source": [
    "import matplotlib.pyplot as plt\n",
    "%matplotlib inline\n",
    "\n",
    "for n, ep_rewards in enumerate(run_rewards):\n",
    "    x = range(len(ep_rewards))\n",
    "    cumsum = np.cumsum(ep_rewards)\n",
    "    avgs = [cumsum[ep]/(ep+1) if ep<100 else (cumsum[ep]-cumsum[ep-100])/100 for ep in x]\n",
    "    plt.plot(x, avgs, color=col, label=n)\n",
    "    \n",
    "plt.title(\"Prioritized Replay performance\")\n",
    "plt.xlabel(\"Episode\")\n",
    "plt.ylabel(\"Last 100 episode average rewards\")\n",
    "plt.legend()"
   ]
  },
  {
   "cell_type": "code",
   "execution_count": null,
   "metadata": {},
   "outputs": [],
   "source": []
  }
 ],
 "metadata": {
  "kernelspec": {
   "display_name": "Python 3",
   "language": "python",
   "name": "python3"
  },
  "language_info": {
   "codemirror_mode": {
    "name": "ipython",
    "version": 3
   },
   "file_extension": ".py",
   "mimetype": "text/x-python",
   "name": "python",
   "nbconvert_exporter": "python",
   "pygments_lexer": "ipython3",
   "version": "3.8.10"
  }
 },
 "nbformat": 4,
 "nbformat_minor": 4
}
